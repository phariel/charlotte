{
 "cells": [
  {
   "cell_type": "code",
   "execution_count": 28,
   "id": "be320dc2",
   "metadata": {},
   "outputs": [
    {
     "name": "stdout",
     "output_type": "stream",
     "text": [
      "{'a': 2, 's': 2, 'd': 2}\n"
     ]
    }
   ],
   "source": [
    "# No. 3\n",
    "# 输入一个字符串，统计字符串中每个元素出现的次数，并将元素和对应的次数作为键值对保存在字典d中,最终输出字典d。\n",
    "# 【输入格式】输入一个字符串。\n",
    "# 【输出格式】输出字典d。\n",
    "\n",
    "tm = input()\n",
    "d = {}\n",
    "\n",
    "for i in tm:\n",
    "    d[i] = tm.count(i)\n",
    "    \n",
    "print(d)"
   ]
  },
  {
   "cell_type": "code",
   "execution_count": 13,
   "id": "f8a4994b",
   "metadata": {},
   "outputs": [
    {
     "name": "stdout",
     "output_type": "stream",
     "text": [
      "Y\n"
     ]
    }
   ],
   "source": [
    "# No. 4\n",
    "# 回文数是指一个像11211这样的\"对称\"的数，即：将这个数的各个数字按照相反的顺序重新排列后，所得到的数和原来的数一样。请编写程序判断输入的数字是否为回文数，是回文数就输出\"Y\",不是回文数就输出\"N\"。\n",
    "# 【输入格式】输入一个数字。\n",
    "# 【输出格式】输出\"Y\"或者\"N\"。\n",
    "\n",
    "signal = \"N\"\n",
    "req = input()\n",
    "\n",
    "if req == req[::-1]:\n",
    "    signal = \"Y\"\n",
    "\n",
    "print(signal)"
   ]
  },
  {
   "cell_type": "code",
   "execution_count": 2,
   "id": "d78b70ed",
   "metadata": {},
   "outputs": [
    {
     "name": "stdout",
     "output_type": "stream",
     "text": [
      "247\n",
      "280\n"
     ]
    }
   ],
   "source": [
    "# No. 9\n",
    "# 给出一个正整数n，请计算该数的因子之和，例如6的因子有1、2、3、6，它的因子之和为1+2+3+6。\n",
    "# 【输入格式】一个正整数n。\n",
    "# 【输出格式】一个正整数，表示n的因子之和。\n",
    "\n",
    "n = int(input())\n",
    "res = 0\n",
    "\n",
    "for i in range(1, n+1):\n",
    "    if n % i == 0:\n",
    "        res += i\n",
    "\n",
    "print(res)"
   ]
  },
  {
   "cell_type": "code",
   "execution_count": 46,
   "id": "b8df290f",
   "metadata": {},
   "outputs": [
    {
     "name": "stdout",
     "output_type": "stream",
     "text": [
      "asdsghjhjgjg335521\n"
     ]
    }
   ],
   "source": [
    "# No. 10\n",
    "# 输入一个字符串，将字符串中的空格消除并将字符串中的所有数字字符（0-9）移动到字符串的末尾，同时保持它们的原始顺序。例如，将字符串\"hello 123 world 987\"变成\"helloworld123987\"。\n",
    "# 【输入格式】输入一个字符串。\n",
    "# 【输出格式】将字符串中的所有数字字符（0-9）移动到字符串的末尾，同时保持它们的原始顺序并输出。\n",
    "\n",
    "req = input()\n",
    "res = \"\"\n",
    "num = \"\"\n",
    "\n",
    "for i in req:\n",
    "    if i==' ':\n",
    "        continue\n",
    "    if i.isnumeric():\n",
    "        num += i\n",
    "    else:\n",
    "        res += i\n",
    "\n",
    "print(res + num)"
   ]
  },
  {
   "cell_type": "code",
   "execution_count": 9,
   "id": "81934273",
   "metadata": {},
   "outputs": [
    {
     "name": "stdout",
     "output_type": "stream",
     "text": [
      "205891132094649\n"
     ]
    }
   ],
   "source": [
    "# No. 15\n",
    "# 动物患上传染病，一个动物每轮传染x个动物。请问 n 轮传染后有多少动物被传染（刚开始有一个动物患上传染病）？\n",
    "# 【输入格式】输入两个正整数x 和 n,中间用空格隔开。\n",
    "# 【输出格式】输出一个整数，即被传染的动物数。\n",
    "\n",
    "count = 1\n",
    "req = input().split(\" \")\n",
    "x = int(req[0])\n",
    "n = int(req[1])\n",
    "\n",
    "for i in range(n):\n",
    "    count += count * x\n",
    "    \n",
    "print(count)"
   ]
  },
  {
   "cell_type": "code",
   "execution_count": 17,
   "id": "74ed35d4",
   "metadata": {},
   "outputs": [
    {
     "name": "stdout",
     "output_type": "stream",
     "text": [
      "N\n"
     ]
    }
   ],
   "source": [
    "# No. 16\n",
    "# “火仙花数”是指一个四位数，它的各位数字的四次方之和等于其本身，例如：\t1634=1*1*1*1+6*6*6*6+3*3*3*3+4*4*4*4。\t\n",
    "# 编程实现输入一个四位数，判断该四位数是否为“火仙花数”。\n",
    "# 【输入格式】输入一个四位数。\n",
    "# 【输出格式】判断该四位数是否为“火仙花数”，是就输出\"Y\"，不是就是输出\"N\"。\n",
    "\n",
    "req = input()\n",
    "res = 0\n",
    "signal = \"N\"\n",
    "\n",
    "for i in req:\n",
    "    num = int(i)\n",
    "    res += num**4\n",
    "\n",
    "if int(req) == res:\n",
    "    signal = \"Y\"\n",
    "\n",
    "print(signal)"
   ]
  },
  {
   "cell_type": "code",
   "execution_count": 50,
   "id": "cd1a15c3",
   "metadata": {},
   "outputs": [
    {
     "name": "stdout",
     "output_type": "stream",
     "text": [
      "25.00\n"
     ]
    }
   ],
   "source": [
    "# No. 21\n",
    "# 小明参加演讲比赛，一共有4个评委，评分时，去掉一个最高得分和一个最低得分，剩下的取平均分作为最终成绩，请计算小明的得分。\n",
    "# 【输入格式】输入四个整数，中间用空格隔开。\n",
    "# 【输出格式】输出一个小数，保留小数点后两位。\n",
    "\n",
    "req = input().split(\" \")\n",
    "numList = []\n",
    "\n",
    "for i in req:\n",
    "    numList.append(int(i))\n",
    "\n",
    "numList.sort()\n",
    "print(\"{0:.2f}\".format((numList[1] + numList[2]) / 2))"
   ]
  },
  {
   "cell_type": "code",
   "execution_count": 25,
   "id": "a9fdbd8b",
   "metadata": {},
   "outputs": [
    {
     "name": "stdout",
     "output_type": "stream",
     "text": [
      "5\n"
     ]
    }
   ],
   "source": [
    "# No. 22\n",
    "# 有一棵苹果树，每到秋天树上就会结出 5个苹果。苹果成熟的时候，小明就会跑去摘苹果。\n",
    "# 现在已知5个苹果到地面的高度，以及小明把手伸直的时候能够达到的最大高度，请编写程序计算小明能够摘到的苹果数量。假设他碰到苹果，苹果就会掉下来。\n",
    "# 【输入格式】\n",
    "# 第一行输入五个整数，表示苹果到地面的高度，中间用空格隔开。\n",
    "# 第二行输入一个整数，表示小明把手伸直的时候能够达到的最大高度。\n",
    "# 【输出格式】输出小明能够摘到的苹果数量。\n",
    "\n",
    "apple = input().split(\" \")\n",
    "ming = int(input())\n",
    "count = 0\n",
    "\n",
    "for i in apple:\n",
    "    if ming >= int(i):\n",
    "        count += 1\n",
    "\n",
    "print(count)"
   ]
  }
 ],
 "metadata": {
  "kernelspec": {
   "display_name": "Python 3 (ipykernel)",
   "language": "python",
   "name": "python3"
  },
  "language_info": {
   "codemirror_mode": {
    "name": "ipython",
    "version": 3
   },
   "file_extension": ".py",
   "mimetype": "text/x-python",
   "name": "python",
   "nbconvert_exporter": "python",
   "pygments_lexer": "ipython3",
   "version": "3.10.2"
  }
 },
 "nbformat": 4,
 "nbformat_minor": 5
}
