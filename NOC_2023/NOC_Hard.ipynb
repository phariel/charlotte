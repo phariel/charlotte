{
 "cells": [
  {
   "cell_type": "code",
   "execution_count": 4,
   "metadata": {},
   "outputs": [
    {
     "name": "stdout",
     "output_type": "stream",
     "text": [
      "Y\n"
     ]
    }
   ],
   "source": [
    "# No. 5\n",
    "# 输入一个正整数m，将m的每一位加起来存放在n中，判断n是否为素数，是素数就输出\"Y\"，不是素数就输出\"N\"。\n",
    "# 素数：一个数字除了1和它本身之外，没有其他因数，这样的数字是素数。\n",
    "# 【输入格式】输入一个正整数m。\n",
    "# 【输出格式】将m的每一位加起来存放在n中，如果n是素数就输出\"Y\",不是素数就输出\"N\"。\n",
    "\n",
    "m = input()\n",
    "n = 0\n",
    "signal = \"Y\"\n",
    "\n",
    "for i in m:\n",
    "    n += int(i)\n",
    "\n",
    "if n <= 1:\n",
    "    signal = \"N\"\n",
    "\n",
    "for j in range(2, n):\n",
    "    if n % j == 0:\n",
    "        signal = \"N\"\n",
    "\n",
    "print(signal)"
   ]
  },
  {
   "cell_type": "code",
   "execution_count": null,
   "metadata": {},
   "outputs": [],
   "source": [
    "# No. 6\n",
    "# 有N盏灯放在一排，从1到N依次顺序编号，按一次灯开，再按一次灯灭。现在有两个人，第一个人将2的倍数的灯全部按下；第二个人将3的倍数的灯全部按下。问最终有几盏灯亮着？（最初的时候灯都是亮的）。\n",
    "# 【输入格式】输入一个整数n。\n",
    "# 【输出格式】输出最终有几盏灯亮着。\n",
    "\n",
    "\n",
    "def switchLight(lightItem):\n",
    "    return not lightItem\n",
    "\n",
    "\n",
    "a = input()\n",
    "d = []\n",
    "count = 0\n",
    "\n",
    "for i in range(int(a)):\n",
    "    d.append(True)\n",
    "\n",
    "    if (i + 1) % 2 == 0:\n",
    "        d[i] = switchLight(d[i])\n",
    "\n",
    "    if (i + 1) % 3 == 0:\n",
    "        d[i] = switchLight(d[i])\n",
    "\n",
    "    if d[i] == True:\n",
    "        count = count + 1\n",
    "\n",
    "print(count)"
   ]
  },
  {
   "cell_type": "code",
   "execution_count": 7,
   "metadata": {},
   "outputs": [
    {
     "name": "stdout",
     "output_type": "stream",
     "text": [
      "None\n"
     ]
    }
   ],
   "source": [
    "# No. 11\n",
    "# 有五个整数，如果两个连续整数之间差都是2的倍数，那么就称这五个整数为“幸运数”。例如五个整数1、3、5、3、5是“幸运数”，因为差分别为：2、2、-2、2，它们都是2的倍数。\n",
    "# 输入五个整数，判断这五个整数是否是“幸运数”。\n",
    "# 【输入格式】输入五个整数，中间用空格隔开。\n",
    "# 【输出格式】如果五个整数是“幸运数”，则输出\"Lucky\"，否则输出\"None\"。\n",
    "\n",
    "strlist = input().split(\" \")\n",
    "signal = \"Lucky\"\n",
    "\n",
    "for i in range(0, len(strlist) - 1):\n",
    "    if (int(strlist[i]) - int(strlist[i + 1])) % 2 != 0:\n",
    "        signal = \"None\"\n",
    "\n",
    "print(signal)"
   ]
  },
  {
   "cell_type": "code",
   "execution_count": 10,
   "metadata": {},
   "outputs": [
    {
     "name": "stdout",
     "output_type": "stream",
     "text": [
      "85\n"
     ]
    }
   ],
   "source": [
    "# No. 12\n",
    "# 国王将金币作为工资，发放给忠诚的骑士。\n",
    "# 第一天骑士收到一枚金币；之后两天（第二天和第三天），每天收到两枚金币；之后三天（第四、五、六天），每天收到三枚金币；之后四天，每天收到四枚金币，以此类推；这种工资发放模式会一直延续下去，当连续N天收到N枚金币后，骑士会在之后的N+1天，每天收到N+1枚金币。\n",
    "# 请编写程序计算前M天里，骑士一共获得了多少金币。\n",
    "# 【输入格式】输入包含一个正整数M，表示发放金币的天数。\n",
    "# 【输出格式】输出一个正整数，即骑士收到的金币数。\n",
    "\n",
    "M = int(input())\n",
    "days = 0\n",
    "coinNum = 0\n",
    "condition = True\n",
    "coinTotal = 0\n",
    "\n",
    "while condition:\n",
    "    coinNum += 1\n",
    "    days += coinNum\n",
    "    if days > M:\n",
    "        coinTotal += coinNum * (coinNum - days + M)\n",
    "        condition = False\n",
    "    else:\n",
    "        coinTotal += coinNum**2\n",
    "print(coinTotal)"
   ]
  },
  {
   "cell_type": "code",
   "execution_count": 11,
   "metadata": {},
   "outputs": [
    {
     "name": "stdout",
     "output_type": "stream",
     "text": [
      "3\n"
     ]
    }
   ],
   "source": [
    "# No. 17\n",
    "# 为了让小明全面发展，妈妈给小明安排了一些课程之外的兴趣班，但是小明如果一天上课超过八个小时就会不高兴，而且上得越久就会越不高兴。小明的不高兴不会持续到第二天。请你帮忙检查一下小明下周的日程安排，看看下周他会不会不高兴，如果会的话，哪天最不高兴。\n",
    "# 【输入格式】\n",
    "# 输入包括7行数据，分别表示周一到周日的日程安排。每行包括两个小于10的非负整数，用空格隔开，分别表示小明在学校上课的时间和妈妈给他安排兴趣班的时间。\n",
    "# 【输出格式】\n",
    "# 一个数字。如果不会不高兴则输出0，如果会则输出最不高兴的是周几（用 1,2,3,4,5,6,7分别表示周一，周二，周三，周四，周五，周六，周日）。如果有两天或两天以上不高兴的程度一样，则输出时间最靠前的一天。\n",
    "\n",
    "day = 0\n",
    "longestHours = 0\n",
    "\n",
    "for i in range(1, 8):\n",
    "    hourList = input().split(\" \")\n",
    "    hours = int(hourList[0]) + int(hourList[1])\n",
    "    if hours > longestHours:\n",
    "        longestHours = hours\n",
    "        day = i\n",
    "\n",
    "print(day)"
   ]
  },
  {
   "cell_type": "code",
   "execution_count": 14,
   "metadata": {},
   "outputs": [
    {
     "name": "stdout",
     "output_type": "stream",
     "text": [
      "NO RESULT\n"
     ]
    }
   ],
   "source": [
    "# No. 18\n",
    "# 输入6个正整数，求出这6个正整数中的第k个最小整数（相同大小的整数只计算1次）。\n",
    "# 【输入格式】\n",
    "# 第一行输入6个整数，整数间用空格隔开。\n",
    "# 第二行输入整数k。\n",
    "# 【输出格式】\n",
    "# 输出第k个最小整数的值；若无解，则输出“NO RESULT”。\n",
    "\n",
    "res = \"NO RESULT\"\n",
    "\n",
    "req = input().split(\" \")\n",
    "k = int(input())\n",
    "numList = []\n",
    "\n",
    "lowestNum = 0\n",
    "kCount = 0\n",
    "\n",
    "for i in req:\n",
    "    numList.append(int(i))\n",
    "\n",
    "numList.sort()\n",
    "\n",
    "for i in numList:\n",
    "    if i > lowestNum:\n",
    "        lowestNum = i\n",
    "        kCount += 1\n",
    "        if kCount == k:\n",
    "            res = lowestNum\n",
    "            break\n",
    "\n",
    "print(res)"
   ]
  },
  {
   "cell_type": "code",
   "execution_count": 16,
   "metadata": {},
   "outputs": [
    {
     "name": "stdout",
     "output_type": "stream",
     "text": [
      "2\n"
     ]
    }
   ],
   "source": [
    "# No. 23\n",
    "# 输入三个整数n,m,k，其中n<m，从n～m（包含n和m）中取出两个整数i和j，统计满足i+j=k的组合数量（i+j=k和j+i=k是两种组合）。\n",
    "# 【输入格式】输入三个整数n,m,k，其中n<m，中间用空格隔开。\n",
    "# 【输出格式】输出满足i+j=k的组合数量（i+j=k和j+i=k是两种组合）。\n",
    "\n",
    "req = input().split(\" \")\n",
    "n = int(req[0])\n",
    "m = int(req[1])\n",
    "k = int(req[2])\n",
    "count = 0\n",
    "\n",
    "for i in range(n, m + 1):\n",
    "    for j in range(n, m + 1):\n",
    "        if i + j == k:\n",
    "            count += 1\n",
    "\n",
    "print(count)"
   ]
  },
  {
   "cell_type": "code",
   "execution_count": 19,
   "metadata": {},
   "outputs": [
    {
     "name": "stdout",
     "output_type": "stream",
     "text": [
      "298\n"
     ]
    }
   ],
   "source": [
    "# No. 24\n",
    "# 某小区大门外长度为L的马路上有一排树，每两棵相邻的树之间的间隔都是1米。我们可以把马路看成一个数轴，马路的一端在数轴0的位置，另一端在L的位置。数轴上的每个整数点，即 0,1,2,…,L，都种有一棵树。\n",
    "# 现在要把一些区域中的树（包括区域端点处的两棵树）移走，这些区域用它们在数轴上的起始点和终止点表示。已知任一区域的起始点和终止点的坐标都是整数，区域之间可能有重合的部分。请编写程序计算将这些树都移走后，马路上还有几棵树。\n",
    "# 【输入格式】\n",
    "# 第一行输入两个正整数，中间用空格隔开，分别表示马路的长度L和区域的数目m。\n",
    "# 接下来m行，每行输入两个整数 u,v，中间用空格隔开，表示一个区域的起始点和终止点的坐标。\n",
    "# 【输出格式】\n",
    "# 一个正整数,表示将这些树都移走后，马路上剩余的树木数量。\n",
    "\n",
    "req = input().split(\" \")\n",
    "L = int(req[0])\n",
    "m = int(req[1])\n",
    "\n",
    "treeList = [True] * (L + 1)\n",
    "\n",
    "for i in range(m):\n",
    "    cord = input().split(\" \")\n",
    "    u = int(cord[0])\n",
    "    v = int(cord[1])\n",
    "\n",
    "    for j in range(u, v + 1):\n",
    "        treeList[j] = False\n",
    "\n",
    "print(treeList.count(True))"
   ]
  }
 ],
 "metadata": {
  "kernelspec": {
   "display_name": "Python 3",
   "language": "python",
   "name": "python3"
  },
  "language_info": {
   "codemirror_mode": {
    "name": "ipython",
    "version": 3
   },
   "file_extension": ".py",
   "mimetype": "text/x-python",
   "name": "python",
   "nbconvert_exporter": "python",
   "pygments_lexer": "ipython3",
   "version": "3.10.2"
  },
  "orig_nbformat": 4
 },
 "nbformat": 4,
 "nbformat_minor": 2
}
